{
 "cells": [
  {
   "cell_type": "code",
   "execution_count": 14,
   "metadata": {},
   "outputs": [],
   "source": [
    "from IPython.display import display_html\n",
    "from bs4 import BeautifulSoup as bs\n",
    "import pandas as pd\n",
    "import requests\n",
    "import re\n",
    "import json\n",
    "import os\n",
    "import pprint"
   ]
  },
  {
   "cell_type": "code",
   "execution_count": 15,
   "metadata": {},
   "outputs": [],
   "source": [
    "headers = {'User-Agent': \n",
    "           'Mozilla/5.0 (X11; Linux x86_64) AppleWebKit/537.36 (KHTML, like Gecko) Chrome/47.0.2526.106 Safari/537.36'}"
   ]
  },
  {
   "cell_type": "code",
   "execution_count": 16,
   "metadata": {},
   "outputs": [],
   "source": [
    "page = \"https://www.transfermarkt.com/primera-division/marktwertaenderungen/wettbewerb/ES1/saison_id/2018/sort/marktwert.desc\"\n",
    "tree = requests.get(page, headers=headers)\n",
    "soup = bs(pageTree.content, 'html.parser')"
   ]
  },
  {
   "cell_type": "code",
   "execution_count": 17,
   "metadata": {},
   "outputs": [],
   "source": [
    "Players = soup.find_all(\"a\", {\"class\": \"spielprofil_tooltip\"})"
   ]
  },
  {
   "cell_type": "code",
   "execution_count": 18,
   "metadata": {},
   "outputs": [
    {
     "data": {
      "text/plain": [
       "'Lionel Messi'"
      ]
     },
     "execution_count": 18,
     "metadata": {},
     "output_type": "execute_result"
    }
   ],
   "source": [
    "Players[0].text"
   ]
  },
  {
   "cell_type": "code",
   "execution_count": 19,
   "metadata": {},
   "outputs": [
    {
     "data": {
      "text/plain": [
       "'160,00 Mill. €\\xa0\\xa0'"
      ]
     },
     "execution_count": 19,
     "metadata": {},
     "output_type": "execute_result"
    }
   ],
   "source": [
    "Values = soup.find_all(\"td\", {\"class\": \"rechts hauptlink\"})\n",
    "\n",
    "Values[0].text"
   ]
  },
  {
   "cell_type": "code",
   "execution_count": 20,
   "metadata": {},
   "outputs": [],
   "source": [
    "#Club = pageSoup.find_all(\"a\", {\"class\": \"vereinprofil_tooltip\"})\n",
    "\n",
    "#Club[0].text"
   ]
  },
  {
   "cell_type": "code",
   "execution_count": 21,
   "metadata": {},
   "outputs": [
    {
     "name": "stdout",
     "output_type": "stream",
     "text": [
      "['Lionel Messi', 'Lionel Messi', 'Antoine Griezmann', 'Philippe Coutinho', 'Saúl Ñíguez', 'Gareth Bale', 'Marco Asensio', 'Marc-André ter Stegen', 'Raphaël Varane', 'Jan Oblak', 'Toni Kroos', 'Ousmane Dembélé', 'Isco', 'Sergio Busquets', 'Jordi Alba', 'Koke', 'Marcelo', 'Casemiro', 'Samuel Umtiti', 'Ivan Rakitic', 'Thibaut Courtois', 'Thomas Lemar', 'Luis Suárez', 'Lucas Hernández', 'Daniel Carvajal']\n",
      "['160,00 Mill. €\\xa0\\xa0', '150,00 Mill. €\\xa0\\xa0', '140,00 Mill. €\\xa0\\xa0', '90,00 Mill. €\\xa0\\xa0', '80,00 Mill. €\\xa0\\xa0', '80,00 Mill. €\\xa0\\xa0', '80,00 Mill. €\\xa0\\xa0', '80,00 Mill. €\\xa0\\xa0', '80,00 Mill. €\\xa0\\xa0', '80,00 Mill. €\\xa0\\xa0', '80,00 Mill. €\\xa0\\xa0', '75,00 Mill. €\\xa0\\xa0', '75,00 Mill. €\\xa0\\xa0', '70,00 Mill. €\\xa0\\xa0', '70,00 Mill. €\\xa0\\xa0', '70,00 Mill. €\\xa0\\xa0', '70,00 Mill. €\\xa0\\xa0', '70,00 Mill. €\\xa0\\xa0', '65,00 Mill. €\\xa0\\xa0', '65,00 Mill. €\\xa0\\xa0', '60,00 Mill. €\\xa0\\xa0', '60,00 Mill. €\\xa0\\xa0', '60,00 Mill. €\\xa0\\xa0', '55,00 Mill. €\\xa0\\xa0', '160,00 Mill. €']\n"
     ]
    }
   ],
   "source": [
    "PlayersList = []\n",
    "ValuesList = []\n",
    "\n",
    "for i in range(0,25):\n",
    "    PlayersList.append(Players[i].text)\n",
    "    ValuesList.append(Values[i].text)\n",
    "    \n",
    "df = pd.DataFrame({\"Players\":PlayersList,\"Values\":ValuesList})\n",
    "\n",
    "\n",
    "print(PlayersList)\n",
    "print(ValuesList)"
   ]
  },
  {
   "cell_type": "code",
   "execution_count": 22,
   "metadata": {},
   "outputs": [
    {
     "data": {
      "text/html": [
       "<div>\n",
       "<style scoped>\n",
       "    .dataframe tbody tr th:only-of-type {\n",
       "        vertical-align: middle;\n",
       "    }\n",
       "\n",
       "    .dataframe tbody tr th {\n",
       "        vertical-align: top;\n",
       "    }\n",
       "\n",
       "    .dataframe thead th {\n",
       "        text-align: right;\n",
       "    }\n",
       "</style>\n",
       "<table border=\"1\" class=\"dataframe\">\n",
       "  <thead>\n",
       "    <tr style=\"text-align: right;\">\n",
       "      <th></th>\n",
       "      <th>Players</th>\n",
       "      <th>Values</th>\n",
       "    </tr>\n",
       "  </thead>\n",
       "  <tbody>\n",
       "    <tr>\n",
       "      <th>0</th>\n",
       "      <td>Lionel Messi</td>\n",
       "      <td>160,00 Mill. €</td>\n",
       "    </tr>\n",
       "    <tr>\n",
       "      <th>1</th>\n",
       "      <td>Lionel Messi</td>\n",
       "      <td>150,00 Mill. €</td>\n",
       "    </tr>\n",
       "    <tr>\n",
       "      <th>2</th>\n",
       "      <td>Antoine Griezmann</td>\n",
       "      <td>140,00 Mill. €</td>\n",
       "    </tr>\n",
       "    <tr>\n",
       "      <th>3</th>\n",
       "      <td>Philippe Coutinho</td>\n",
       "      <td>90,00 Mill. €</td>\n",
       "    </tr>\n",
       "    <tr>\n",
       "      <th>4</th>\n",
       "      <td>Saúl Ñíguez</td>\n",
       "      <td>80,00 Mill. €</td>\n",
       "    </tr>\n",
       "    <tr>\n",
       "      <th>5</th>\n",
       "      <td>Gareth Bale</td>\n",
       "      <td>80,00 Mill. €</td>\n",
       "    </tr>\n",
       "    <tr>\n",
       "      <th>6</th>\n",
       "      <td>Marco Asensio</td>\n",
       "      <td>80,00 Mill. €</td>\n",
       "    </tr>\n",
       "    <tr>\n",
       "      <th>7</th>\n",
       "      <td>Marc-André ter Stegen</td>\n",
       "      <td>80,00 Mill. €</td>\n",
       "    </tr>\n",
       "    <tr>\n",
       "      <th>8</th>\n",
       "      <td>Raphaël Varane</td>\n",
       "      <td>80,00 Mill. €</td>\n",
       "    </tr>\n",
       "    <tr>\n",
       "      <th>9</th>\n",
       "      <td>Jan Oblak</td>\n",
       "      <td>80,00 Mill. €</td>\n",
       "    </tr>\n",
       "    <tr>\n",
       "      <th>10</th>\n",
       "      <td>Toni Kroos</td>\n",
       "      <td>80,00 Mill. €</td>\n",
       "    </tr>\n",
       "    <tr>\n",
       "      <th>11</th>\n",
       "      <td>Ousmane Dembélé</td>\n",
       "      <td>75,00 Mill. €</td>\n",
       "    </tr>\n",
       "    <tr>\n",
       "      <th>12</th>\n",
       "      <td>Isco</td>\n",
       "      <td>75,00 Mill. €</td>\n",
       "    </tr>\n",
       "    <tr>\n",
       "      <th>13</th>\n",
       "      <td>Sergio Busquets</td>\n",
       "      <td>70,00 Mill. €</td>\n",
       "    </tr>\n",
       "    <tr>\n",
       "      <th>14</th>\n",
       "      <td>Jordi Alba</td>\n",
       "      <td>70,00 Mill. €</td>\n",
       "    </tr>\n",
       "    <tr>\n",
       "      <th>15</th>\n",
       "      <td>Koke</td>\n",
       "      <td>70,00 Mill. €</td>\n",
       "    </tr>\n",
       "    <tr>\n",
       "      <th>16</th>\n",
       "      <td>Marcelo</td>\n",
       "      <td>70,00 Mill. €</td>\n",
       "    </tr>\n",
       "    <tr>\n",
       "      <th>17</th>\n",
       "      <td>Casemiro</td>\n",
       "      <td>70,00 Mill. €</td>\n",
       "    </tr>\n",
       "    <tr>\n",
       "      <th>18</th>\n",
       "      <td>Samuel Umtiti</td>\n",
       "      <td>65,00 Mill. €</td>\n",
       "    </tr>\n",
       "    <tr>\n",
       "      <th>19</th>\n",
       "      <td>Ivan Rakitic</td>\n",
       "      <td>65,00 Mill. €</td>\n",
       "    </tr>\n",
       "    <tr>\n",
       "      <th>20</th>\n",
       "      <td>Thibaut Courtois</td>\n",
       "      <td>60,00 Mill. €</td>\n",
       "    </tr>\n",
       "    <tr>\n",
       "      <th>21</th>\n",
       "      <td>Thomas Lemar</td>\n",
       "      <td>60,00 Mill. €</td>\n",
       "    </tr>\n",
       "    <tr>\n",
       "      <th>22</th>\n",
       "      <td>Luis Suárez</td>\n",
       "      <td>60,00 Mill. €</td>\n",
       "    </tr>\n",
       "    <tr>\n",
       "      <th>23</th>\n",
       "      <td>Lucas Hernández</td>\n",
       "      <td>55,00 Mill. €</td>\n",
       "    </tr>\n",
       "    <tr>\n",
       "      <th>24</th>\n",
       "      <td>Daniel Carvajal</td>\n",
       "      <td>160,00 Mill. €</td>\n",
       "    </tr>\n",
       "  </tbody>\n",
       "</table>\n",
       "</div>"
      ],
      "text/plain": [
       "                  Players            Values\n",
       "0            Lionel Messi  160,00 Mill. €  \n",
       "1            Lionel Messi  150,00 Mill. €  \n",
       "2       Antoine Griezmann  140,00 Mill. €  \n",
       "3       Philippe Coutinho   90,00 Mill. €  \n",
       "4             Saúl Ñíguez   80,00 Mill. €  \n",
       "5             Gareth Bale   80,00 Mill. €  \n",
       "6           Marco Asensio   80,00 Mill. €  \n",
       "7   Marc-André ter Stegen   80,00 Mill. €  \n",
       "8          Raphaël Varane   80,00 Mill. €  \n",
       "9               Jan Oblak   80,00 Mill. €  \n",
       "10             Toni Kroos   80,00 Mill. €  \n",
       "11        Ousmane Dembélé   75,00 Mill. €  \n",
       "12                   Isco   75,00 Mill. €  \n",
       "13        Sergio Busquets   70,00 Mill. €  \n",
       "14             Jordi Alba   70,00 Mill. €  \n",
       "15                   Koke   70,00 Mill. €  \n",
       "16                Marcelo   70,00 Mill. €  \n",
       "17               Casemiro   70,00 Mill. €  \n",
       "18          Samuel Umtiti   65,00 Mill. €  \n",
       "19           Ivan Rakitic   65,00 Mill. €  \n",
       "20       Thibaut Courtois   60,00 Mill. €  \n",
       "21           Thomas Lemar   60,00 Mill. €  \n",
       "22            Luis Suárez   60,00 Mill. €  \n",
       "23        Lucas Hernández   55,00 Mill. €  \n",
       "24        Daniel Carvajal    160,00 Mill. €"
      ]
     },
     "execution_count": 22,
     "metadata": {},
     "output_type": "execute_result"
    }
   ],
   "source": [
    "df"
   ]
  },
  {
   "cell_type": "code",
   "execution_count": null,
   "metadata": {},
   "outputs": [],
   "source": [
    "url = (r\"C:\\Users\\GSRic\\Desktop\\Data Analytics Fifa La Liga\\Fifa\\LaLigaPage19.html\")\n"
   ]
  },
  {
   "cell_type": "code",
   "execution_count": null,
   "metadata": {},
   "outputs": [],
   "source": [
    "page = open(url)"
   ]
  },
  {
   "cell_type": "code",
   "execution_count": null,
   "metadata": {},
   "outputs": [],
   "source": [
    "soup = bs(page.read())\n",
    "#soup = bs(response.text, 'html.parser')"
   ]
  },
  {
   "cell_type": "code",
   "execution_count": null,
   "metadata": {},
   "outputs": [],
   "source": [
    "#print(soup)\n",
    "print(pageSoup.prettify())"
   ]
  },
  {
   "cell_type": "code",
   "execution_count": null,
   "metadata": {},
   "outputs": [],
   "source": [
    "table2 = soup.find_all('table')\n",
    "print(table2)\n",
    "print(table2)"
   ]
  },
  {
   "cell_type": "code",
   "execution_count": null,
   "metadata": {},
   "outputs": [],
   "source": [
    "pageTree = requests.get(page, headers=headers)\n",
    "pageSoup = bs(pageTree.content, 'html.parser')"
   ]
  },
  {
   "cell_type": "code",
   "execution_count": null,
   "metadata": {},
   "outputs": [],
   "source": [
    "My_table = soup.find('table',{'class':'items'})"
   ]
  },
  {
   "cell_type": "code",
   "execution_count": null,
   "metadata": {},
   "outputs": [],
   "source": [
    "My_table"
   ]
  },
  {
   "cell_type": "code",
   "execution_count": null,
   "metadata": {},
   "outputs": [],
   "source": [
    "links = My_table.findAll('a')"
   ]
  },
  {
   "cell_type": "code",
   "execution_count": null,
   "metadata": {},
   "outputs": [],
   "source": [
    "links"
   ]
  },
  {
   "cell_type": "code",
   "execution_count": null,
   "metadata": {},
   "outputs": [],
   "source": [
    "table = soup.find('table')"
   ]
  },
  {
   "cell_type": "code",
   "execution_count": null,
   "metadata": {},
   "outputs": [],
   "source": [
    "table"
   ]
  },
  {
   "cell_type": "code",
   "execution_count": null,
   "metadata": {},
   "outputs": [],
   "source": [
    "table_rows = table.find_all('tr')"
   ]
  },
  {
   "cell_type": "code",
   "execution_count": null,
   "metadata": {},
   "outputs": [],
   "source": [
    "for tr in table_rows:\n",
    "    td = tr.find_all('td')\n",
    "    row = [i.text for i in td]\n",
    "    print(row)"
   ]
  },
  {
   "cell_type": "code",
   "execution_count": null,
   "metadata": {},
   "outputs": [],
   "source": [
    "#df = pd.read_clipboard()\n",
    "#print(df)"
   ]
  },
  {
   "cell_type": "code",
   "execution_count": null,
   "metadata": {},
   "outputs": [],
   "source": [
    "players = []\n",
    "for link in links:\n",
    "    players.append(link.get('title'))"
   ]
  },
  {
   "cell_type": "code",
   "execution_count": null,
   "metadata": {},
   "outputs": [],
   "source": [
    "print(players)"
   ]
  },
  {
   "cell_type": "code",
   "execution_count": null,
   "metadata": {},
   "outputs": [],
   "source": [
    "df = pd.read_html(r\"C:\\Users\\GSRic\\Desktop\\Data Analytics Fifa La Liga\\Fifa\\LaLigaPage19.html\")[0]"
   ]
  },
  {
   "cell_type": "code",
   "execution_count": null,
   "metadata": {},
   "outputs": [],
   "source": [
    "\n",
    "\n",
    "url = (\"C:\\Users\\GSRic\\Desktop\\Data Analytics Fifa La Liga\\Fifa\\List of sovereign states - Wikipedia.html\")\n",
    "page = open(url)\n",
    "soup = BeautifulSoup(page.read())\n",
    "\n",
    "print(soup)\n",
    "\n"
   ]
  },
  {
   "cell_type": "code",
   "execution_count": null,
   "metadata": {},
   "outputs": [],
   "source": []
  }
 ],
 "metadata": {
  "kernelspec": {
   "display_name": "Python 3",
   "language": "python",
   "name": "python3"
  },
  "language_info": {
   "codemirror_mode": {
    "name": "ipython",
    "version": 3
   },
   "file_extension": ".py",
   "mimetype": "text/x-python",
   "name": "python",
   "nbconvert_exporter": "python",
   "pygments_lexer": "ipython3",
   "version": "3.7.0"
  }
 },
 "nbformat": 4,
 "nbformat_minor": 2
}
