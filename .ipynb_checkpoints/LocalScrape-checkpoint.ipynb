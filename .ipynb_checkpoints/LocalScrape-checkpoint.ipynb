{
 "cells": [
  {
   "cell_type": "code",
   "execution_count": 17,
   "metadata": {},
   "outputs": [],
   "source": [
    "import sys\n",
    "#!{sys.executable} -m pip install urllib2\n",
    "#!{sys.executable} -m pip install citipy"
   ]
  },
  {
   "cell_type": "code",
   "execution_count": 18,
   "metadata": {},
   "outputs": [],
   "source": [
    "from bs4 import BeautifulSoup as bs\n",
    "import pandas as pd\n",
    "import requests\n",
    "#import urllib2\n",
    "import re\n",
    "import json\n",
    "import os\n",
    "import pprint"
   ]
  },
  {
   "cell_type": "code",
   "execution_count": 19,
   "metadata": {},
   "outputs": [],
   "source": [
    "url = (r\"C:\\Users\\GSRic\\Desktop\\Data Analytics Fifa La Liga\\Fifa\\LaLigaPage19.html\")\n"
   ]
  },
  {
   "cell_type": "code",
   "execution_count": 20,
   "metadata": {},
   "outputs": [],
   "source": [
    "page = open(url)"
   ]
  },
  {
   "cell_type": "code",
   "execution_count": 21,
   "metadata": {},
   "outputs": [
    {
     "ename": "NameError",
     "evalue": "name 'response' is not defined",
     "output_type": "error",
     "traceback": [
      "\u001b[1;31m---------------------------------------------------------------------------\u001b[0m",
      "\u001b[1;31mNameError\u001b[0m                                 Traceback (most recent call last)",
      "\u001b[1;32m<ipython-input-21-748bb07275d5>\u001b[0m in \u001b[0;36m<module>\u001b[1;34m\u001b[0m\n\u001b[0;32m      1\u001b[0m \u001b[1;31m#soup = bs(page.read())\u001b[0m\u001b[1;33m\u001b[0m\u001b[1;33m\u001b[0m\u001b[1;33m\u001b[0m\u001b[0m\n\u001b[1;32m----> 2\u001b[1;33m \u001b[0msoup\u001b[0m \u001b[1;33m=\u001b[0m \u001b[0mbs\u001b[0m\u001b[1;33m(\u001b[0m\u001b[0mresponse\u001b[0m\u001b[1;33m.\u001b[0m\u001b[0mtext\u001b[0m\u001b[1;33m,\u001b[0m \u001b[1;34m'html.parser'\u001b[0m\u001b[1;33m)\u001b[0m\u001b[1;33m\u001b[0m\u001b[1;33m\u001b[0m\u001b[0m\n\u001b[0m",
      "\u001b[1;31mNameError\u001b[0m: name 'response' is not defined"
     ]
    }
   ],
   "source": [
    "#soup = bs(page.read())\n",
    "soup = bs(response.text, 'html.parser')"
   ]
  },
  {
   "cell_type": "code",
   "execution_count": 22,
   "metadata": {},
   "outputs": [
    {
     "ename": "NameError",
     "evalue": "name 'soup' is not defined",
     "output_type": "error",
     "traceback": [
      "\u001b[1;31m---------------------------------------------------------------------------\u001b[0m",
      "\u001b[1;31mNameError\u001b[0m                                 Traceback (most recent call last)",
      "\u001b[1;32m<ipython-input-22-0967975f75e9>\u001b[0m in \u001b[0;36m<module>\u001b[1;34m\u001b[0m\n\u001b[1;32m----> 1\u001b[1;33m \u001b[0mprint\u001b[0m\u001b[1;33m(\u001b[0m\u001b[0msoup\u001b[0m\u001b[1;33m)\u001b[0m\u001b[1;33m\u001b[0m\u001b[1;33m\u001b[0m\u001b[0m\n\u001b[0m",
      "\u001b[1;31mNameError\u001b[0m: name 'soup' is not defined"
     ]
    }
   ],
   "source": [
    "print(soup)"
   ]
  },
  {
   "cell_type": "code",
   "execution_count": 50,
   "metadata": {},
   "outputs": [
    {
     "ename": "SyntaxError",
     "evalue": "(unicode error) 'unicodeescape' codec can't decode bytes in position 2-3: truncated \\UXXXXXXXX escape (<ipython-input-50-98ec3c5fd05c>, line 3)",
     "output_type": "error",
     "traceback": [
      "\u001b[1;36m  File \u001b[1;32m\"<ipython-input-50-98ec3c5fd05c>\"\u001b[1;36m, line \u001b[1;32m3\u001b[0m\n\u001b[1;33m    url = \"C:\\Users\\GSRic\\Desktop\\Data Analytics Fifa La Liga\\Fifa\\List of sovereign states - Wikipedia.html\"\u001b[0m\n\u001b[1;37m         ^\u001b[0m\n\u001b[1;31mSyntaxError\u001b[0m\u001b[1;31m:\u001b[0m (unicode error) 'unicodeescape' codec can't decode bytes in position 2-3: truncated \\UXXXXXXXX escape\n"
     ]
    }
   ],
   "source": [
    "\n",
    "\n",
    "url = (\"C:\\Users\\GSRic\\Desktop\\Data Analytics Fifa La Liga\\Fifa\\List of sovereign states - Wikipedia.html\")\n",
    "page = open(url)\n",
    "soup = BeautifulSoup(page.read())\n",
    "\n",
    "print(soup)\n",
    "\n"
   ]
  },
  {
   "cell_type": "code",
   "execution_count": 40,
   "metadata": {},
   "outputs": [
    {
     "ename": "SyntaxError",
     "evalue": "(unicode error) 'unicodeescape' codec can't decode bytes in position 2-3: truncated \\UXXXXXXXX escape (<ipython-input-40-d1b587712745>, line 7)",
     "output_type": "error",
     "traceback": [
      "\u001b[1;36m  File \u001b[1;32m\"<ipython-input-40-d1b587712745>\"\u001b[1;36m, line \u001b[1;32m7\u001b[0m\n\u001b[1;33m    soup = BeautifulSoup(open(\"C:\\Users\\GSRic\\Desktop\\Data Analytics Fifa La Liga\\Fifa\\List of sovereign states - Wikipedia.html\"), \"html.parser\")\u001b[0m\n\u001b[1;37m                             ^\u001b[0m\n\u001b[1;31mSyntaxError\u001b[0m\u001b[1;31m:\u001b[0m (unicode error) 'unicodeescape' codec can't decode bytes in position 2-3: truncated \\UXXXXXXXX escape\n"
     ]
    }
   ],
   "source": [
    "#player_list = []\n",
    "#url = 'List of sovereign states - Wikipedia.html'\n",
    "#response = requests.get(url)\n",
    "\n",
    "#print(type(url))\n",
    "\n",
    "soup = BeautifulSoup(open(\"C:\\Users\\GSRic\\Desktop\\Data Analytics Fifa La Liga\\Fifa\\List of sovereign states - Wikipedia.html\"), \"html.parser\")\n",
    "\n",
    "#MyTable = soup.find('table',{'class':'items'})\n",
    "\n",
    "print(soup)"
   ]
  },
  {
   "cell_type": "code",
   "execution_count": null,
   "metadata": {},
   "outputs": [],
   "source": [
    "#player_list = []\n",
    "#for page_num in range(19):\n",
    "#    url = 'https://www.kijiji.ca/b-cars-vehicles/city-of-toronto/page-' + str(page_num) + '/c27l1700273'\n",
    "#    url = 'https://www.transfermarkt.com/primera-division/marktwertaenderungen/wettbewerb/ES1/saison_id/2018/primera-division/marktwertaenderungen/wettbewerb/ES1/sort/marktwert.desc'\n",
    "#    response = requests.get(url)\n",
    "#    soup = bs(response.text, 'html.parser')\n",
    "#    results = soup.find_all('div', class_=\"info-container\")\n",
    "#    for result in results:\n",
    "#        try:\n",
    "#            title = result.find('a', class_=\"title\").text\n",
    "#            price = result.find('div', class_=\"price\").text\n",
    "#            car_list.append([str(title.strip()), str(price.strip())])\n",
    "#        except:\n",
    "#            pass\n",
    "        \n",
    "#df_kijiji = pd.DataFrame(car_list)"
   ]
  }
 ],
 "metadata": {
  "kernelspec": {
   "display_name": "Python 3",
   "language": "python",
   "name": "python3"
  },
  "language_info": {
   "codemirror_mode": {
    "name": "ipython",
    "version": 3
   },
   "file_extension": ".py",
   "mimetype": "text/x-python",
   "name": "python",
   "nbconvert_exporter": "python",
   "pygments_lexer": "ipython3",
   "version": "3.7.1"
  }
 },
 "nbformat": 4,
 "nbformat_minor": 2
}
