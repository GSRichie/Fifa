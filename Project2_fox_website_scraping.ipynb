{
 "cells": [
  {
   "cell_type": "code",
   "execution_count": 79,
   "metadata": {},
   "outputs": [],
   "source": [
    "import requests\n",
    "from bs4 import BeautifulSoup as bs\n",
    "import csv\n",
    "import pandas as pd"
   ]
  },
  {
   "cell_type": "code",
   "execution_count": 71,
   "metadata": {},
   "outputs": [],
   "source": [
    "base_url=\"https://www.foxsports.com/soccer/stats?competition=2&season=20180&category=STANDARD&pos=0&team=0&isOpp=0&sort=3&sortOrder=0&page=\"\n",
    "player_list=[]\n",
    "player_goals=[]\n",
    "player_SOG=[]\n",
    "player_shoot=[]"
   ]
  },
  {
   "cell_type": "code",
   "execution_count": 72,
   "metadata": {},
   "outputs": [],
   "source": [
    "for i in range (1,10):\n",
    "    url=base_url+str(i)\n",
    "    response=requests.get(url)\n",
    "    soup=bs(response.text, \"html.parser\")\n",
    "    player_name_list_box=soup.find_all(\"a\", class_=\"wisbb_fullPlayer\")\n",
    "    player_goals_box=soup.find_all(\"td\", class_=\"wisbb_priorityColumn wisbb_selected\")\n",
    "    player_sog_box=soup.find_all(\"td\", class_=\"wisbb_priorityColumn\")\n",
    "    player_shoot_list=soup.find_all(\"td\", class_=None)\n",
    "    for player in player_name_list_box:\n",
    "        player_list.append(player.find(\"span\").text)\n",
    "    for goal in player_goals_box:\n",
    "        player_goals.append(goal.text)\n",
    "    for i in range(1,len(player_sog_box)+1):\n",
    "        if not i%4:\n",
    "            player_SOG.append(player_sog_box[i-1].text)\n",
    "    for i in range(1, len(player_shoot_list)+1):\n",
    "        if i%5==3:\n",
    "            player_shoot.append(player_shoot_list[i-1].text)"
   ]
  },
  {
   "cell_type": "code",
   "execution_count": 73,
   "metadata": {},
   "outputs": [
    {
     "name": "stdout",
     "output_type": "stream",
     "text": [
      "['Messi, Lionel', 'Suarez, Luis', 'Stuani, Cristhian', 'Aspas, Iago', 'Iglesias, Borja', 'Silva, Andre', 'Ben Yedder, Wissam', 'Gomez, Maxi', 'Marti, Roger', 'Benzema, Karim', 'Muniain, Iker', 'Williams, Inaki', 'Coutinho, Philippe', 'Dembele, Ousmane', 'Ramos, Sergio', 'Sarabia, Pablo', 'Morales, Jose Luis', 'De Tomas, Raul', 'Charles', 'Gallar, Alex', 'Gomez, Ibai', 'Sobrino, Ruben', 'Mendez, Brais', 'Bale, Gareth', 'Canales, Sergio', 'Oyarzabal, Mikel', 'Willian Jose', 'Moron, Loren', 'Griezmann, Antoine', 'El Zhar, Nabil', 'Molina, Jorge', 'Rodriguez, Angel', 'Carrillo, Guido', 'Calleri, Jonathan', 'Enrich, Sergi', 'Jordan, Joan', 'Portu', 'Rakitic, Ivan', 'Granero, Esteban', 'Hermoso, Mario', 'Moreno, Gerard', 'Marcelo', 'Juanmi', 'Parejo, Dani', 'Suarez, Leonardo', 'Toko Ekambi, Karl', 'Unal, Enes', 'Firpo, Junior', 'Joaquin', 'Banega, Ever', 'Correa, Angel', 'Filipe Luis', 'Godin, Diego', 'Thomas', 'Lemar, Thomas', 'Jony', 'Baston, Borja', 'Boufal, Sofiane', 'Vidal, Arturo', 'Garcia, Alvaro', 'Pozo, Jose', 'Foulquier, Dimitri', 'Arbilla, Anaitz', 'Diop, Pape', 'Escalante, Gonzalo', 'Kike', 'Alcala, Pedro', 'Garcia, Borja', 'Pons, Pere', 'Burgui', 'El Haddadi, Munir', 'Garcia, Manu', 'Pedraza, Alfonso', 'Pina, Tomas', 'Perez, Hernan', 'De Marcos, Oscar', 'Etxeita, Xabier', 'Garcia, Raul', 'Nolaskoain, Peru', 'Susaeta, Markel', 'Alba, Jordi', 'Pique, Gerard', 'Mallo, Hugo', 'Sisto, Pione', 'Baptistao, Leo', 'Darder, Sergi', 'Garcia, Sergio', 'Piatti, Pablo', 'Asensio, Marco', 'Carvajal, Dani', 'Ceballos, Dani', 'Hernandez, Theo', 'Isco', 'Oscar', 'Bautista, Jon', 'Elustondo, Aritz', 'Illarramendi', 'Sangalli Fuentes, Luca', 'Zurutuza, David', 'Garay, Ezequiel', 'Gaya, Jose Luis', 'Moreno, Rodrigo', 'Antonito', 'Mata, Jaime', 'Cheryshev, Denis', 'Fornals, Pablo', 'Gaspar, Mario', 'Rodri', 'Sansone, Nicola', 'Bartra, Marc', 'Carrico, Daniel', 'Muriel, Luis', 'Vazquez, Franco', 'Gameiro, Kevin', 'Koke', 'Gumbau, Gerard', 'Bardhi, Enis', 'Chema', 'Jason', 'Postigo, Sergio', 'Rochina, Ruben', 'Tono', 'Funes Mori, Ramiro', 'Berchiche, Yuri', 'Miramon, Jorge', 'Alcaraz, Ruben', 'Navarro, Ximo', 'Galvez, Alejandro', 'Merino, Mikel', 'Kakuta, Gael', 'Cardona, Marc', 'Nacho Martinez', 'Plano, Oscar', 'Embarba, Adri', 'Trejo, Oscar', 'Pulido, Jorge', 'Gomez, Moi', 'Advincula, Luis', 'Imbula, Giannelli', 'Bacca, Carlos', 'Silva, Jonathan', 'Simon, Moses', 'Mercado, Gabriel', 'Lo Celso, Giovani', 'Batshuayi, Michy', 'Verde, Daniele', 'Hernandez, Juan Camilo', 'Melero, Gonzalo', 'Avila, Ezequiel', 'Ndiaye, Amath', 'Garces, Borja', 'Chukweze, Samuel Chimerenka', 'Alejo, Ivan', 'Capa, Ander', 'Jose Angel', 'Dmitrovic, Marko', 'Garcia, Dani', 'Inui, Takashi', 'Junca, David', 'Oliveira, Paulo', 'Orellana, Fabian', 'Pena, Ruben', 'Ramis, Ivan', 'Riesgo, Asier', 'Aday', 'Douglas Luiz', 'Espinosa, Bernardo', 'Garcia, Aleix', 'Granell, Alex', 'Juanpe', 'Lozano, Anthony', 'Planas, Carles', 'Ramalho, Jonas', 'Soni, Kevin', 'Timor, David', 'Aguilera, Juan', 'Akapo, Carlos', 'Brezancic, Rajko', 'Aguirregabiria, Martin', 'Duarte, Ruben', 'Guidetti, John', 'Laguardia, Victor', 'Maripan, Guillermo', 'Medran, Alvaro', 'Pacheco, Fernando', 'Sivera, Antonio', 'Torres, Daniel', 'Vigaray, Carlos', 'Wakaso, Mubarak', 'Aduriz, Aritz', 'Balenziaga, Mikel', 'Etxebarria, Benat', 'Cordoba, Inigo', 'Herrerin, Iago', 'Iturraspe, Ander', 'Martinez, Inigo', 'Merino, Sabin', 'Nunez, Unai', 'Rico, Mikel', 'San Jose, Mikel', 'Simon, Unai', 'Vesga, Mikel', 'Yeray', 'Busquets, Sergio', 'Roberto, Sergi', 'Semedo, Nelson', 'ter Stegen, Marc-Andre', 'Umtiti, Samuel', 'Vermaelen, Thomas', 'Vidal, Aleix', 'Cabral, Gustavo', 'Eckert, Dennis', 'Gomez, Sergi', 'Lobotka, Stanislav', 'Mor, Emre', 'Roncaglia, Facundo', 'Wass, Daniel', 'Alvarez, Sergio', 'Duarte, Oscar', 'Lopez, David', 'Lopez, Diego', 'Lopez, Javi', 'Lopez, Pau', 'Melendo, Oscar', 'Naldo', 'Roca, Marc', 'Sanchez, Victor', 'Vila, Didac', 'Beltran, Fran', 'Comesana, Santi', 'Casemiro', 'Kroos, Toni', 'Llorente, Marcos', 'Mayoral, Borja', 'Modric, Luka', 'Nacho', 'Navas, Keylor', 'Varane, Raphael', 'Vazquez, Lucas', 'Gorosabel, Andoni', 'Januzaj, Adnan', 'Llorente, Diego', 'Merquelanz, Martin', 'Moreno, Hector', 'Moya', 'Navas, Raul', 'Odriozola, Alvaro', 'Pardo, Ruben', 'Rodrigues, Kevin', 'Rulli, Geronimo', 'Zubeldia Elorza, Igor', 'Coquelin, Francis', 'Domenech, Jaume', 'Guedes, Goncalo', 'Kondogbia, Geoffrey', 'Lato, Toni', 'Maksimovic, Nemanja', 'Mina, Santi', 'Murillo, Jeison', 'Neto', 'Gabriel Paulista', 'Soler, Carlos', 'Torres, Ferran', 'Vezo, Ruben', 'Calero, Fernando', 'Asenjo, Sergio', 'Cazorla, Santi', 'Costa, Jaume', 'Marin, Adrian', 'Morlanes, Manu', 'Raba, Daniel', 'Victor Ruiz', 'Semedo, Ruben', 'Trigueros, Manu', 'Amat, Jordi', 'Barragan, Antonio', 'Boudebouz, Ryad', 'Feddal, Zouhair', 'Guerrero, Francis', 'Garcia, Javi', 'Guardado, Andres', 'Leon, Sergio', 'Mandi, Aissa', 'Sanabria, Antonio', 'Tello, Cristian', 'Arana, Guilherme', 'Escudero, Sergio', 'Kjaer, Simon', 'Layun, Miguel', 'Lenglet, Clement', 'Mesa, Roque', 'Navas, Jesus', 'Nolito', 'Ramirez, Sandro', 'Soria, David', 'Carlos Isaac', 'Costa, Diego', 'Gimenez, Jose', 'Hernandez, Lucas', 'Juanfran', 'Oblak, Jan', 'Savic, Stefan', 'Niguez, Saul', 'Vitolo', 'Werner, Axel', 'Brasanac, Darko', 'Bustinza, Unai', 'Cuellar, Ivan', 'Eraso, Javi', 'Garcia, Raul', 'Munoz, Ezequiel', 'Perez, Ruben', 'Siovas, Dimitrios', 'Tito', 'Zaldua, Joseba', 'Antunes, Vitorino', 'Arambarri, Mauro', 'Bergara, Markel', 'Bruno', 'Cabrera, Leandro', 'Portillo, Francisco', 'Shibasaki, Gaku', 'Suarez, Damian', 'Alegria, Alex', 'Boateng, Emmanuel', 'Cabaco, Erick', 'Campana, Jose', 'Doukoure, Cheick', 'Ivi', 'Luna, Antonio', 'Lopez, Pedro', 'Oier', 'Pier, Rober', 'Hervias, Pablo', 'Diakhaby, Mouctar', 'Amadou, Ibrahim', 'Rafinha', 'Lunin, Andriy', 'Bebe', 'Lopez, Unai', 'Garcia, Alberto', 'Vaclik, Tomas', 'Velazquez, Emiliano', 'Ojeda, Daniel', 'Tarin, Rodrigo', 'Coke', 'Luisinho', 'Longo, Samuele', 'Robles, Joel', 'Guardiola, Sergi', 'Ibanez, Robert', 'Rivera, Christian', 'Costas, David', 'Hjulsager, Andrew', 'Araujo, Nestor', 'Yokuslu, Okay', 'Alena, Carles', 'Arthur', 'Cucurella, Marc', 'Carvalho, William', 'Musto, Damian', 'Caseres, Santiago', 'Juanfran', 'Vinicius Junior', 'Porro, Pedro', 'Borja', 'Masip, Jordi', 'Moyano, Javi', 'Kiko Olivas', 'Herrero, Michel', 'Ba, Abdoulaye', 'Dorado', 'Moreno, Alex', 'Akieme Rodriguez, Sergio', 'Guerra, Javi', 'Montero, Francisco', 'Malcom', 'Martins, Gelson', 'Alvarez, Sergio', 'Ferreiro, David', 'Insua, Pablo', 'Sastre, Lluis', 'Gnagnon, Joris', 'Piccini, Cristiano', 'Reguilon, Sergio', 'Sanchez, Javi', 'Arias, Santiago', 'Jensen, Mathias', 'Alonso, Junior', 'Gonzalez, Alvaro', 'Miguelon', 'Iturra, Manuel', 'Jovanovic, Aleksandar', 'Gurler, Serdar', 'Recio', 'Rolan, Diego', 'En-Nesyri, Youssef', 'Santos, Michael', 'Nyom, Allan', 'Omeruo, Kenneth', 'Roberts, Patrick', 'Doumbia, Seydou', 'De Blasis, Pablo', 'Bigas, Pedro', 'Miquel, Ignasi', 'Cristoforo, Sebastian', 'Dakonam, Djene', 'Dwamena, Raphael', 'Vukcevic, Nikola', 'Prcic, Sanjin', 'Kalinic, Nikola', 'Gonalons, Maxime', 'Promes, Quincy', 'Sidnei', 'Courtois, Thibaut', 'Diaz, Mariano', 'Villa, Toni', 'Keko', 'Guruzeta, Gorka', 'Elustondo, Gorka', 'Dimitrievski, Stole', 'Cop, Duje', 'Anuar', 'Rosales, Roberto', 'Twumasi, Patrick', 'Muniesa, Marc', 'Bono', 'Milla, Pere', 'de la Fuente, Miguel', 'Ramos, Chris', 'Moreno, Sergio', 'Puado, Javi']\n"
     ]
    }
   ],
   "source": [
    "print(player_list)"
   ]
  },
  {
   "cell_type": "code",
   "execution_count": 74,
   "metadata": {},
   "outputs": [
    {
     "name": "stdout",
     "output_type": "stream",
     "text": [
      "['9', '9', '8', '8', '7', '7', '6', '6', '6', '5', '4', '4', '4', '4', '4', '4', '4', '4', '3', '3', '3', '3', '3', '3', '3', '3', '3', '3', '3', '3', '3', '3', '3', '3', '2', '2', '2', '2', '2', '2', '2', '2', '2', '2', '2', '2', '2', '2', '2', '2', '2', '2', '2', '2', '2', '2', '2', '2', '2', '2', '2', '2', '1', '1', '1', '1', '1', '1', '1', '1', '1', '1', '1', '1', '1', '1', '1', '1', '1', '1', '1', '1', '1', '1', '1', '1', '1', '1', '1', '1', '1', '1', '1', '1', '1', '1', '1', '1', '1', '1', '1', '1', '1', '1', '1', '1', '1', '1', '1', '1', '1', '1', '1', '1', '1', '1', '1', '1', '1', '1', '1', '1', '1', '1', '1', '1', '1', '1', '1', '1', '1', '1', '1', '1', '1', '1', '1', '1', '1', '1', '1', '1', '1', '1', '1', '1', '1', '1', '1', '1', '1', '1', '0', '0', '0', '0', '0', '0', '0', '0', '0', '0', '0', '0', '0', '0', '0', '0', '0', '0', '0', '0', '0', '0', '0', '0', '0', '0', '0', '0', '0', '0', '0', '0', '0', '0', '0', '0', '0', '0', '0', '0', '0', '0', '0', '0', '0', '0', '0', '0', '0', '0', '0', '0', '0', '0', '0', '0', '0', '0', '0', '0', '0', '0', '0', '0', '0', '0', '0', '0', '0', '0', '0', '0', '0', '0', '0', '0', '0', '0', '0', '0', '0', '0', '0', '0', '0', '0', '0', '0', '0', '0', '0', '0', '0', '0', '0', '0', '0', '0', '0', '0', '0', '0', '0', '0', '0', '0', '0', '0', '0', '0', '0', '0', '0', '0', '0', '0', '0', '0', '0', '0', '0', '0', '0', '0', '0', '0', '0', '0', '0', '0', '0', '0', '0', '0', '0', '0', '0', '0', '0', '0', '0', '0', '0', '0', '0', '0', '0', '0', '0', '0', '0', '0', '0', '0', '0', '0', '0', '0', '0', '0', '0', '0', '0', '0', '0', '0', '0', '0', '0', '0', '0', '0', '0', '0', '0', '0', '0', '0', '0', '0', '0', '0', '0', '0', '0', '0', '0', '0', '0', '0', '0', '0', '0', '0', '0', '0', '0', '0', '0', '0', '0', '0', '0', '0', '0', '0', '0', '0', '0', '0', '0', '0', '0', '0', '0', '0', '0', '0', '0', '0', '0', '0', '0', '0', '0', '0', '0', '0', '0', '0', '0', '0', '0', '0', '0', '0', '0', '0', '0', '0', '0', '0', '0', '0', '0', '0', '0', '0', '0', '0', '0', '0', '0', '0', '0', '0', '0', '0', '0', '0', '0', '0', '0', '0', '0', '0', '0', '0', '0', '0', '0', '0', '0', '0', '0', '0', '0', '0', '0', '0']\n"
     ]
    }
   ],
   "source": [
    "print(player_goals)"
   ]
  },
  {
   "cell_type": "code",
   "execution_count": 75,
   "metadata": {},
   "outputs": [
    {
     "name": "stdout",
     "output_type": "stream",
     "text": [
      "['22', '21', '11', '15', '18', '15', '11', '10', '9', '12', '4', '7', '16', '9', '9', '11', '11', '14', '4', '5', '6', '5', '11', '17', '10', '7', '6', '12', '13', '6', '8', '10', '8', '7', '5', '7', '5', '6', '4', '7', '14', '3', '6', '2', '4', '12', '6', '5', '4', '3', '3', '3', '5', '2', '3', '11', '3', '6', '3', '3', '3', '3', '2', '5', '2', '5', '1', '5', '2', '1', '1', '2', '5', '1', '4', '1', '3', '8', '2', '4', '3', '3', '3', '6', '11', '4', '9', '6', '7', '3', '2', '4', '3', '8', '3', '3', '2', '2', '1', '2', '1', '11', '1', '5', '3', '6', '2', '2', '1', '2', '2', '1', '4', '7', '2', '4', '10', '1', '3', '2', '3', '1', '2', '4', '1', '5', '1', '2', '1', '2', '2', '1', '1', '6', '2', '4', '2', '5', '2', '5', '3', '1', '1', '6', '7', '2', '10', '2', '7', '4', '1', '3', '0', '1', '1', '0', '0', '4', '0', '0', '8', '4', '1', '0', '2', '0', '1', '1', '3', '4', '2', '0', '0', '0', '0', '1', '0', '0', '0', '3', '1', '0', '0', '1', '0', '0', '0', '0', '2', '4', '0', '1', '1', '0', '0', '0', '3', '0', '1', '2', '0', '0', '1', '0', '1', '0', '0', '0', '0', '2', '1', '3', '0', '0', '2', '1', '1', '0', '0', '0', '0', '0', '0', '0', '0', '3', '2', '5', '0', '0', '4', '2', '1', '4', '4', '0', '0', '1', '4', '0', '0', '1', '0', '0', '0', '0', '0', '2', '1', '0', '1', '1', '0', '4', '1', '0', '4', '3', '0', '0', '1', '2', '2', '0', '0', '0', '1', '2', '0', '1', '0', '0', '0', '0', '1', '0', '3', '0', '1', '0', '1', '1', '1', '0', '3', '3', '0', '0', '1', '1', '1', '4', '1', '4', '0', '0', '7', '0', '0', '0', '0', '0', '4', '0', '0', '1', '1', '0', '1', '0', '0', '1', '1', '0', '0', '2', '2', '0', '1', '0', '1', '0', '0', '1', '2', '0', '0', '0', '0', '1', '1', '0', '0', '1', '0', '0', '0', '0', '3', '0', '0', '0', '1', '1', '1', '0', '1', '2', '0', '0', '2', '0', '0', '0', '2', '0', '0', '3', '0', '1', '0', '1', '1', '0', '3', '0', '0', '2', '1', '0', '2', '0', '2', '0', '0', '0', '1', '0', '0', '5', '0', '0', '0', '0', '0', '0', '0', '0', '2', '0', '0', '0', '0', '1', '2', '0', '3', '3', '0', '0', '2', '0', '2', '0', '0', '0', '0', '0', '0', '0', '1', '0', '0', '1', '0', '2', '9', '2', '0', '0', '0', '5', '0', '0', '1', '0', '0', '0', '0', '0', '1', '0']\n"
     ]
    }
   ],
   "source": [
    "print(player_SOG)"
   ]
  },
  {
   "cell_type": "code",
   "execution_count": 76,
   "metadata": {},
   "outputs": [
    {
     "name": "stdout",
     "output_type": "stream",
     "text": [
      "['47', '45', '20', '29', '32', '31', '25', '19', '22', '32', '6', '30', '29', '21', '18', '28', '22', '32', '12', '12', '28', '13', '19', '40', '32', '13', '8', '27', '30', '14', '15', '26', '19', '16', '18', '20', '12', '16', '13', '14', '31', '12', '11', '9', '8', '20', '17', '13', '8', '11', '10', '7', '9', '8', '8', '23', '4', '14', '4', '8', '7', '6', '10', '18', '5', '15', '4', '15', '7', '3', '3', '9', '10', '1', '6', '4', '4', '20', '3', '10', '7', '10', '10', '10', '20', '21', '22', '9', '21', '5', '4', '9', '8', '18', '11', '4', '7', '4', '4', '4', '5', '32', '4', '12', '8', '28', '6', '5', '1', '5', '4', '4', '17', '14', '5', '11', '25', '1', '15', '5', '15', '3', '12', '15', '6', '25', '3', '3', '4', '5', '2', '6', '7', '19', '8', '5', '8', '11', '11', '11', '9', '2', '4', '9', '15', '5', '27', '7', '23', '8', '2', '9', '0', '4', '7', '0', '1', '13', '2', '2', '25', '11', '3', '0', '7', '7', '2', '4', '11', '7', '8', '1', '0', '0', '2', '3', '1', '0', '0', '7', '5', '2', '1', '4', '0', '0', '0', '0', '10', '5', '1', '3', '5', '0', '0', '6', '4', '1', '3', '4', '0', '1', '2', '4', '5', '2', '0', '1', '0', '5', '6', '5', '2', '6', '6', '3', '16', '0', '0', '2', '0', '4', '0', '2', '0', '7', '5', '9', '10', '4', '16', '13', '1', '5', '13', '4', '0', '3', '4', '1', '6', '2', '0', '1', '0', '2', '0', '10', '2', '0', '5', '1', '0', '12', '10', '0', '12', '6', '0', '0', '5', '13', '4', '2', '1', '0', '8', '11', '1', '1', '0', '3', '8', '10', '1', '0', '10', '4', '4', '0', '8', '4', '1', '8', '8', '6', '4', '3', '10', '2', '5', '18', '2', '9', '0', '1', '9', '4', '4', '0', '0', '2', '19', '2', '0', '4', '1', '0', '1', '2', '2', '3', '7', '0', '1', '12', '6', '0', '2', '5', '1', '1', '5', '1', '12', '0', '2', '0', '1', '1', '1', '0', '3', '4', '2', '1', '2', '0', '13', '1', '0', '0', '2', '2', '3', '1', '3', '4', '0', '2', '4', '0', '1', '0', '3', '4', '1', '3', '2', '2', '5', '2', '2', '1', '5', '1', '0', '3', '2', '9', '2', '0', '8', '0', '1', '0', '2', '1', '0', '10', '0', '0', '0', '4', '0', '0', '3', '2', '3', '3', '0', '0', '0', '4', '6', '2', '14', '8', '0', '0', '3', '1', '4', '2', '0', '0', '8', '0', '0', '4', '4', '0', '5', '4', '0', '10', '21', '4', '0', '2', '0', '10', '1', '0', '1', '2', '0', '4', '0', '0', '1', '1']\n"
     ]
    }
   ],
   "source": [
    "print(player_shoot)"
   ]
  },
  {
   "cell_type": "code",
   "execution_count": 99,
   "metadata": {},
   "outputs": [],
   "source": [
    "df=pd.DataFrame({\"Full Name\":player_list,\n",
    "                            \"Goals\":player_goals,\n",
    "                            \"Shoot On Goals\":player_SOG,\n",
    "                            \"Shoots\":player_shoot\n",
    "                            })\n"
   ]
  },
  {
   "cell_type": "code",
   "execution_count": 100,
   "metadata": {},
   "outputs": [],
   "source": [
    "last_name=[]"
   ]
  },
  {
   "cell_type": "code",
   "execution_count": 101,
   "metadata": {},
   "outputs": [],
   "source": [
    "for name in df[\"Full Name\"]:\n",
    "    last_name.append(name.split(\",\")[0])  "
   ]
  },
  {
   "cell_type": "code",
   "execution_count": 103,
   "metadata": {},
   "outputs": [],
   "source": [
    "df[\"Last Name\"]=last_name"
   ]
  },
  {
   "cell_type": "code",
   "execution_count": 104,
   "metadata": {},
   "outputs": [
    {
     "data": {
      "text/html": [
       "<div>\n",
       "<style scoped>\n",
       "    .dataframe tbody tr th:only-of-type {\n",
       "        vertical-align: middle;\n",
       "    }\n",
       "\n",
       "    .dataframe tbody tr th {\n",
       "        vertical-align: top;\n",
       "    }\n",
       "\n",
       "    .dataframe thead th {\n",
       "        text-align: right;\n",
       "    }\n",
       "</style>\n",
       "<table border=\"1\" class=\"dataframe\">\n",
       "  <thead>\n",
       "    <tr style=\"text-align: right;\">\n",
       "      <th></th>\n",
       "      <th>Full Name</th>\n",
       "      <th>Goals</th>\n",
       "      <th>Shoot On Goals</th>\n",
       "      <th>Shoots</th>\n",
       "      <th>Last Name</th>\n",
       "    </tr>\n",
       "  </thead>\n",
       "  <tbody>\n",
       "    <tr>\n",
       "      <th>0</th>\n",
       "      <td>Messi, Lionel</td>\n",
       "      <td>9</td>\n",
       "      <td>22</td>\n",
       "      <td>47</td>\n",
       "      <td>Messi</td>\n",
       "    </tr>\n",
       "    <tr>\n",
       "      <th>1</th>\n",
       "      <td>Suarez, Luis</td>\n",
       "      <td>9</td>\n",
       "      <td>21</td>\n",
       "      <td>45</td>\n",
       "      <td>Suarez</td>\n",
       "    </tr>\n",
       "    <tr>\n",
       "      <th>2</th>\n",
       "      <td>Stuani, Cristhian</td>\n",
       "      <td>8</td>\n",
       "      <td>11</td>\n",
       "      <td>20</td>\n",
       "      <td>Stuani</td>\n",
       "    </tr>\n",
       "    <tr>\n",
       "      <th>3</th>\n",
       "      <td>Aspas, Iago</td>\n",
       "      <td>8</td>\n",
       "      <td>15</td>\n",
       "      <td>29</td>\n",
       "      <td>Aspas</td>\n",
       "    </tr>\n",
       "    <tr>\n",
       "      <th>4</th>\n",
       "      <td>Iglesias, Borja</td>\n",
       "      <td>7</td>\n",
       "      <td>18</td>\n",
       "      <td>32</td>\n",
       "      <td>Iglesias</td>\n",
       "    </tr>\n",
       "  </tbody>\n",
       "</table>\n",
       "</div>"
      ],
      "text/plain": [
       "           Full Name Goals Shoot On Goals Shoots Last Name\n",
       "0      Messi, Lionel     9             22     47     Messi\n",
       "1       Suarez, Luis     9             21     45    Suarez\n",
       "2  Stuani, Cristhian     8             11     20    Stuani\n",
       "3        Aspas, Iago     8             15     29     Aspas\n",
       "4    Iglesias, Borja     7             18     32  Iglesias"
      ]
     },
     "execution_count": 104,
     "metadata": {},
     "output_type": "execute_result"
    }
   ],
   "source": [
    "df.head()"
   ]
  },
  {
   "cell_type": "code",
   "execution_count": 106,
   "metadata": {},
   "outputs": [],
   "source": [
    "df.to_csv(\"Performance_La_Liga.csv\",sep=\",\")"
   ]
  },
  {
   "cell_type": "code",
   "execution_count": null,
   "metadata": {},
   "outputs": [],
   "source": []
  }
 ],
 "metadata": {
  "kernelspec": {
   "display_name": "Python 3",
   "language": "python",
   "name": "python3"
  },
  "language_info": {
   "codemirror_mode": {
    "name": "ipython",
    "version": 3
   },
   "file_extension": ".py",
   "mimetype": "text/x-python",
   "name": "python",
   "nbconvert_exporter": "python",
   "pygments_lexer": "ipython3",
   "version": "3.7.1"
  }
 },
 "nbformat": 4,
 "nbformat_minor": 2
}
