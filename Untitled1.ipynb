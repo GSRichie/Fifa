{
 "cells": [
  {
   "cell_type": "code",
   "execution_count": 16,
   "metadata": {},
   "outputs": [],
   "source": [
    "from IPython.display import display_html\n",
    "from bs4 import BeautifulSoup as bs\n",
    "import pandas as pd\n",
    "import requests\n",
    "import re\n",
    "import json\n",
    "import os\n",
    "import pprint"
   ]
  },
  {
   "cell_type": "code",
   "execution_count": 17,
   "metadata": {},
   "outputs": [],
   "source": [
    "headers = {'User-Agent': \n",
    "           'Mozilla/5.0 (X11; Linux x86_64) AppleWebKit/537.36 (KHTML, like Gecko) Chrome/47.0.2526.106 Safari/537.36'}"
   ]
  },
  {
   "cell_type": "code",
   "execution_count": 18,
   "metadata": {},
   "outputs": [],
   "source": [
    "page = \"https://www.transfermarkt.com/primera-division/marktwertaenderungen/wettbewerb/ES1/saison_id/2018\"\n",
    "pageTree = requests.get(page, headers=headers)\n",
    "pageSoup = bs(pageTree.content, 'html.parser')"
   ]
  },
  {
   "cell_type": "code",
   "execution_count": 19,
   "metadata": {},
   "outputs": [],
   "source": [
    "Players = pageSoup.find_all(\"a\", {\"class\": \"spielprofil_tooltip\"})"
   ]
  },
  {
   "cell_type": "code",
   "execution_count": 20,
   "metadata": {},
   "outputs": [
    {
     "data": {
      "text/plain": [
       "'Lionel Messi'"
      ]
     },
     "execution_count": 20,
     "metadata": {},
     "output_type": "execute_result"
    }
   ],
   "source": [
    "Players[0].text"
   ]
  },
  {
   "cell_type": "code",
   "execution_count": 21,
   "metadata": {},
   "outputs": [
    {
     "data": {
      "text/plain": [
       "'8,00 Mill. €\\xa0\\xa0'"
      ]
     },
     "execution_count": 21,
     "metadata": {},
     "output_type": "execute_result"
    }
   ],
   "source": [
    "Values = pageSoup.find_all(\"td\", {\"class\": \"rechts hauptlink\"})\n",
    "\n",
    "Values[0].text"
   ]
  },
  {
   "cell_type": "code",
   "execution_count": 27,
   "metadata": {},
   "outputs": [
    {
     "data": {
      "text/plain": [
       "''"
      ]
     },
     "execution_count": 27,
     "metadata": {},
     "output_type": "execute_result"
    }
   ],
   "source": [
    "#Club = pageSoup.find_all(\"a\", {\"class\": \"vereinprofil_tooltip\"})\n",
    "\n",
    "#Club[0].text"
   ]
  },
  {
   "cell_type": "code",
   "execution_count": 22,
   "metadata": {},
   "outputs": [
    {
     "data": {
      "text/html": [
       "<div>\n",
       "<style scoped>\n",
       "    .dataframe tbody tr th:only-of-type {\n",
       "        vertical-align: middle;\n",
       "    }\n",
       "\n",
       "    .dataframe tbody tr th {\n",
       "        vertical-align: top;\n",
       "    }\n",
       "\n",
       "    .dataframe thead th {\n",
       "        text-align: right;\n",
       "    }\n",
       "</style>\n",
       "<table border=\"1\" class=\"dataframe\">\n",
       "  <thead>\n",
       "    <tr style=\"text-align: right;\">\n",
       "      <th></th>\n",
       "      <th>Players</th>\n",
       "      <th>Values</th>\n",
       "    </tr>\n",
       "  </thead>\n",
       "  <tbody>\n",
       "    <tr>\n",
       "      <th>0</th>\n",
       "      <td>Lionel Messi</td>\n",
       "      <td>8,00 Mill. €</td>\n",
       "    </tr>\n",
       "    <tr>\n",
       "      <th>1</th>\n",
       "      <td>Stiven Plaza</td>\n",
       "      <td>160,00 Mill. €</td>\n",
       "    </tr>\n",
       "    <tr>\n",
       "      <th>2</th>\n",
       "      <td>Maximilian Wöber</td>\n",
       "      <td>150,00 Mill. €</td>\n",
       "    </tr>\n",
       "    <tr>\n",
       "      <th>3</th>\n",
       "      <td>Lionel Messi</td>\n",
       "      <td>140,00 Mill. €</td>\n",
       "    </tr>\n",
       "    <tr>\n",
       "      <th>4</th>\n",
       "      <td>Antoine Griezmann</td>\n",
       "      <td>90,00 Mill. €</td>\n",
       "    </tr>\n",
       "  </tbody>\n",
       "</table>\n",
       "</div>"
      ],
      "text/plain": [
       "             Players            Values\n",
       "0       Lionel Messi    8,00 Mill. €  \n",
       "1       Stiven Plaza  160,00 Mill. €  \n",
       "2   Maximilian Wöber  150,00 Mill. €  \n",
       "3       Lionel Messi  140,00 Mill. €  \n",
       "4  Antoine Griezmann   90,00 Mill. €  "
      ]
     },
     "execution_count": 22,
     "metadata": {},
     "output_type": "execute_result"
    }
   ],
   "source": [
    "PlayersList = []\n",
    "ValuesList = []\n",
    "\n",
    "for i in range(0,25):\n",
    "    PlayersList.append(Players[i].text)\n",
    "    ValuesList.append(Values[i].text)\n",
    "    \n",
    "df = pd.DataFrame({\"Players\":PlayersList,\"Values\":ValuesList})\n",
    "\n",
    "df.head()"
   ]
  },
  {
   "cell_type": "code",
   "execution_count": 23,
   "metadata": {},
   "outputs": [
    {
     "data": {
      "text/html": [
       "<div>\n",
       "<style scoped>\n",
       "    .dataframe tbody tr th:only-of-type {\n",
       "        vertical-align: middle;\n",
       "    }\n",
       "\n",
       "    .dataframe tbody tr th {\n",
       "        vertical-align: top;\n",
       "    }\n",
       "\n",
       "    .dataframe thead th {\n",
       "        text-align: right;\n",
       "    }\n",
       "</style>\n",
       "<table border=\"1\" class=\"dataframe\">\n",
       "  <thead>\n",
       "    <tr style=\"text-align: right;\">\n",
       "      <th></th>\n",
       "      <th>Players</th>\n",
       "      <th>Values</th>\n",
       "    </tr>\n",
       "  </thead>\n",
       "  <tbody>\n",
       "    <tr>\n",
       "      <th>0</th>\n",
       "      <td>Lionel Messi</td>\n",
       "      <td>8,00 Mill. €</td>\n",
       "    </tr>\n",
       "    <tr>\n",
       "      <th>1</th>\n",
       "      <td>Stiven Plaza</td>\n",
       "      <td>160,00 Mill. €</td>\n",
       "    </tr>\n",
       "    <tr>\n",
       "      <th>2</th>\n",
       "      <td>Maximilian Wöber</td>\n",
       "      <td>150,00 Mill. €</td>\n",
       "    </tr>\n",
       "    <tr>\n",
       "      <th>3</th>\n",
       "      <td>Lionel Messi</td>\n",
       "      <td>140,00 Mill. €</td>\n",
       "    </tr>\n",
       "    <tr>\n",
       "      <th>4</th>\n",
       "      <td>Antoine Griezmann</td>\n",
       "      <td>90,00 Mill. €</td>\n",
       "    </tr>\n",
       "    <tr>\n",
       "      <th>5</th>\n",
       "      <td>Philippe Coutinho</td>\n",
       "      <td>80,00 Mill. €</td>\n",
       "    </tr>\n",
       "    <tr>\n",
       "      <th>6</th>\n",
       "      <td>Saúl Ñíguez</td>\n",
       "      <td>80,00 Mill. €</td>\n",
       "    </tr>\n",
       "    <tr>\n",
       "      <th>7</th>\n",
       "      <td>Gareth Bale</td>\n",
       "      <td>80,00 Mill. €</td>\n",
       "    </tr>\n",
       "    <tr>\n",
       "      <th>8</th>\n",
       "      <td>Marco Asensio</td>\n",
       "      <td>80,00 Mill. €</td>\n",
       "    </tr>\n",
       "    <tr>\n",
       "      <th>9</th>\n",
       "      <td>Marc-André ter Stegen</td>\n",
       "      <td>80,00 Mill. €</td>\n",
       "    </tr>\n",
       "    <tr>\n",
       "      <th>10</th>\n",
       "      <td>Raphaël Varane</td>\n",
       "      <td>80,00 Mill. €</td>\n",
       "    </tr>\n",
       "    <tr>\n",
       "      <th>11</th>\n",
       "      <td>Jan Oblak</td>\n",
       "      <td>80,00 Mill. €</td>\n",
       "    </tr>\n",
       "    <tr>\n",
       "      <th>12</th>\n",
       "      <td>Toni Kroos</td>\n",
       "      <td>75,00 Mill. €</td>\n",
       "    </tr>\n",
       "    <tr>\n",
       "      <th>13</th>\n",
       "      <td>Ousmane Dembélé</td>\n",
       "      <td>75,00 Mill. €</td>\n",
       "    </tr>\n",
       "    <tr>\n",
       "      <th>14</th>\n",
       "      <td>Isco</td>\n",
       "      <td>70,00 Mill. €</td>\n",
       "    </tr>\n",
       "    <tr>\n",
       "      <th>15</th>\n",
       "      <td>Sergio Busquets</td>\n",
       "      <td>70,00 Mill. €</td>\n",
       "    </tr>\n",
       "    <tr>\n",
       "      <th>16</th>\n",
       "      <td>Jordi Alba</td>\n",
       "      <td>70,00 Mill. €</td>\n",
       "    </tr>\n",
       "    <tr>\n",
       "      <th>17</th>\n",
       "      <td>Koke</td>\n",
       "      <td>70,00 Mill. €</td>\n",
       "    </tr>\n",
       "    <tr>\n",
       "      <th>18</th>\n",
       "      <td>Marcelo</td>\n",
       "      <td>70,00 Mill. €</td>\n",
       "    </tr>\n",
       "    <tr>\n",
       "      <th>19</th>\n",
       "      <td>Casemiro</td>\n",
       "      <td>65,00 Mill. €</td>\n",
       "    </tr>\n",
       "    <tr>\n",
       "      <th>20</th>\n",
       "      <td>Samuel Umtiti</td>\n",
       "      <td>65,00 Mill. €</td>\n",
       "    </tr>\n",
       "    <tr>\n",
       "      <th>21</th>\n",
       "      <td>Ivan Rakitic</td>\n",
       "      <td>60,00 Mill. €</td>\n",
       "    </tr>\n",
       "    <tr>\n",
       "      <th>22</th>\n",
       "      <td>Thibaut Courtois</td>\n",
       "      <td>60,00 Mill. €</td>\n",
       "    </tr>\n",
       "    <tr>\n",
       "      <th>23</th>\n",
       "      <td>Thomas Lemar</td>\n",
       "      <td>160,00 Mill. €</td>\n",
       "    </tr>\n",
       "    <tr>\n",
       "      <th>24</th>\n",
       "      <td>Lucas Hernández</td>\n",
       "      <td>150,00 Mill. €</td>\n",
       "    </tr>\n",
       "  </tbody>\n",
       "</table>\n",
       "</div>"
      ],
      "text/plain": [
       "                  Players            Values\n",
       "0            Lionel Messi    8,00 Mill. €  \n",
       "1            Stiven Plaza  160,00 Mill. €  \n",
       "2        Maximilian Wöber  150,00 Mill. €  \n",
       "3            Lionel Messi  140,00 Mill. €  \n",
       "4       Antoine Griezmann   90,00 Mill. €  \n",
       "5       Philippe Coutinho   80,00 Mill. €  \n",
       "6             Saúl Ñíguez   80,00 Mill. €  \n",
       "7             Gareth Bale   80,00 Mill. €  \n",
       "8           Marco Asensio   80,00 Mill. €  \n",
       "9   Marc-André ter Stegen   80,00 Mill. €  \n",
       "10         Raphaël Varane   80,00 Mill. €  \n",
       "11              Jan Oblak   80,00 Mill. €  \n",
       "12             Toni Kroos   75,00 Mill. €  \n",
       "13        Ousmane Dembélé   75,00 Mill. €  \n",
       "14                   Isco   70,00 Mill. €  \n",
       "15        Sergio Busquets   70,00 Mill. €  \n",
       "16             Jordi Alba   70,00 Mill. €  \n",
       "17                   Koke   70,00 Mill. €  \n",
       "18                Marcelo   70,00 Mill. €  \n",
       "19               Casemiro   65,00 Mill. €  \n",
       "20          Samuel Umtiti   65,00 Mill. €  \n",
       "21           Ivan Rakitic   60,00 Mill. €  \n",
       "22       Thibaut Courtois   60,00 Mill. €  \n",
       "23           Thomas Lemar    160,00 Mill. €\n",
       "24        Lucas Hernández    150,00 Mill. €"
      ]
     },
     "execution_count": 23,
     "metadata": {},
     "output_type": "execute_result"
    }
   ],
   "source": [
    "df"
   ]
  },
  {
   "cell_type": "code",
   "execution_count": null,
   "metadata": {},
   "outputs": [],
   "source": []
  }
 ],
 "metadata": {
  "kernelspec": {
   "display_name": "Python 3",
   "language": "python",
   "name": "python3"
  },
  "language_info": {
   "codemirror_mode": {
    "name": "ipython",
    "version": 3
   },
   "file_extension": ".py",
   "mimetype": "text/x-python",
   "name": "python",
   "nbconvert_exporter": "python",
   "pygments_lexer": "ipython3",
   "version": "3.7.1"
  }
 },
 "nbformat": 4,
 "nbformat_minor": 2
}
